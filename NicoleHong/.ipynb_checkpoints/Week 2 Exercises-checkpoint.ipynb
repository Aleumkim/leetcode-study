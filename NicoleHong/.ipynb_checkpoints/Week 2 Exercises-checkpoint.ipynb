{
 "cells": [
  {
   "cell_type": "code",
   "execution_count": 3,
   "id": "03547531-2ccb-4e80-a223-75e6cd44aa1d",
   "metadata": {},
   "outputs": [],
   "source": [
    "import numpy as np\n",
    "import pandas as pd\n",
    "\n",
    "# to be able to see multiple ouputs from sungle cell\n",
    "from IPython.core.interactiveshell import InteractiveShell\n",
    "InteractiveShell.ast_node_interactivity = \"all\""
   ]
  },
  {
   "cell_type": "markdown",
   "id": "f316b8f0-81cd-4b78-9623-63f48ad3d0e4",
   "metadata": {},
   "source": [
    "#### __152. Maximum Product Subarray:__\n",
    "Given an integer array nums, find a contiguous non-empty subarray within the array that has the largest product, and return the product.\n",
    "\n",
    "The test cases are generated so that the answer will fit in a 32-bit integer.\n",
    "\n",
    "A subarray is a contiguous subsequence of the array."
   ]
  },
  {
   "cell_type": "code",
   "execution_count": 10,
   "id": "6a60bf28-f2e5-4c95-8a51-91870b1ac702",
   "metadata": {},
   "outputs": [
    {
     "data": {
      "text/plain": [
       "4"
      ]
     },
     "execution_count": 10,
     "metadata": {},
     "output_type": "execute_result"
    },
    {
     "data": {
      "text/plain": [
       "1"
      ]
     },
     "execution_count": 10,
     "metadata": {},
     "output_type": "execute_result"
    }
   ],
   "source": [
    "nums = [2,3,-2,4]\n",
    "len(nums)\n",
    "nums.index(3)"
   ]
  },
  {
   "cell_type": "code",
   "execution_count": 11,
   "id": "d5deb9c4-6ff2-4bf8-8d0f-d1387bffdff8",
   "metadata": {},
   "outputs": [
    {
     "name": "stdout",
     "output_type": "stream",
     "text": [
      "[2, 3]\n",
      "[2, 3]\n",
      "[3, -2]\n",
      "[-2, 4]\n"
     ]
    }
   ],
   "source": [
    "n = 0\n",
    "while n <= len(nums)-1:\n",
    "    if n == 0:\n",
    "        print(f\"[{nums[n]}, {nums[n+1]}]\")\n",
    "    elif (n > 0) and (n < (len(nums) - 2)):\n",
    "        print(f\"[{nums[n-1]}, {nums[n]}]\")\n",
    "        print(f\"[{nums[n]}, {nums[n+1]}]\")\n",
    "    elif n == len(nums) - 1:\n",
    "        print(f\"[{nums[n-1]}, {nums[n]}]\")\n",
    "   \n",
    "    n += 1"
   ]
  },
  {
   "cell_type": "code",
   "execution_count": 12,
   "id": "47c0db59-2219-42e5-bf77-e872a1d7c4c1",
   "metadata": {},
   "outputs": [
    {
     "name": "stdout",
     "output_type": "stream",
     "text": [
      "6\n"
     ]
    }
   ],
   "source": [
    "product_item = []\n",
    "n = 0\n",
    "while n <= len(nums)-1:\n",
    "    if n == 0:\n",
    "        product_item.append(nums[n] * nums[n+1])\n",
    "    elif (n > 0) and (n < (len(nums) - 2)):\n",
    "        product_item.append(nums[n-1] * nums[n])\n",
    "        product_item.append(nums[n] * nums[n+1])\n",
    "    elif n == len(nums) - 1:\n",
    "        product_item.append(nums[n-1] * nums[n])\n",
    "   \n",
    "    n += 1\n",
    "\n",
    "print(max(product_item))"
   ]
  },
  {
   "cell_type": "markdown",
   "id": "588dc457-e470-49d8-90b6-4caad61ab214",
   "metadata": {},
   "source": [
    "#### __153. Find Minimum in Rotated Sorted Array:__\n",
    "Suppose an array of length n sorted in ascending order is rotated between 1 and n times. For example, the array nums = [0,1,2,4,5,6,7] might become:\n",
    "\n",
    "    [4,5,6,7,0,1,2] if it was rotated 4 times.\n",
    "    [0,1,2,4,5,6,7] if it was rotated 7 times.\n",
    "\n",
    "Notice that rotating an array [a[0], a[1], a[2], ..., a[n-1]] 1 time results in the array [a[n-1], a[0], a[1], a[2], ..., a[n-2]].\n",
    "\n",
    "Given the sorted rotated array nums of unique elements, return the minimum element of this array.\n",
    "\n",
    "You must write an algorithm that runs in O(log n) time."
   ]
  },
  {
   "cell_type": "code",
   "execution_count": 33,
   "id": "697b843c-144c-437a-9372-e3579d684644",
   "metadata": {},
   "outputs": [
    {
     "data": {
      "text/plain": [
       "5"
      ]
     },
     "execution_count": 33,
     "metadata": {},
     "output_type": "execute_result"
    },
    {
     "data": {
      "text/plain": [
       "1"
      ]
     },
     "execution_count": 33,
     "metadata": {},
     "output_type": "execute_result"
    }
   ],
   "source": [
    "nums2 = [1,2,3,4,5]\n",
    "len(nums2)\n",
    "min(nums2)"
   ]
  },
  {
   "cell_type": "code",
   "execution_count": 42,
   "id": "3a60349a-731b-414f-93a4-2fe857d61d49",
   "metadata": {},
   "outputs": [
    {
     "name": "stdout",
     "output_type": "stream",
     "text": [
      "Original List: [1, 2, 3, 4, 5]\n",
      "Rotated List with 2 times rotated: [3, 4, 5, 1, 2]\n",
      "Minimum element in the rotated List: 1\n"
     ]
    }
   ],
   "source": [
    "rotating_num = 2\n",
    "nums2_rotated = nums2[rotating_num:] + nums2[:rotating_num]\n",
    "\n",
    "print(f\"Original List: {nums2}\")\n",
    "print(f\"Rotated List with {rotating_num} times rotated: {nums2_rotated}\")\n",
    "print(f\"Minimum element in the rotated List: {min(nums2_rotated)}\")"
   ]
  },
  {
   "cell_type": "markdown",
   "id": "58191cf5-74b6-4bfa-928b-2d10f57c7059",
   "metadata": {
    "tags": []
   },
   "source": [
    "#### __33. Search in Rotated Sorted Array:__\n",
    "There is an integer array nums sorted in ascending order (with distinct values).\n",
    "\n",
    "Prior to being passed to your function, nums is possibly rotated at an unknown pivot index k (1 <= k < nums.length) such that the resulting array is [nums[k], nums[k+1], ..., nums[n-1], nums[0], nums[1], ..., nums[k-1]] (0-indexed). For example, [0,1,2,4,5,6,7] might be rotated at pivot index 3 and become [4,5,6,7,0,1,2].\n",
    "\n",
    "Given the array nums after the possible rotation and an integer target, return the index of target if it is in nums, or -1 if it is not in nums.\n",
    "\n",
    "You must write an algorithm with O(log n) runtime complexity."
   ]
  },
  {
   "cell_type": "code",
   "execution_count": 53,
   "id": "80039eee-8e65-4d87-ae3e-74f2e4274467",
   "metadata": {},
   "outputs": [
    {
     "data": {
      "text/plain": [
       "7"
      ]
     },
     "execution_count": 53,
     "metadata": {},
     "output_type": "execute_result"
    }
   ],
   "source": [
    "nums3 = [0,1,2,4,5,6,7]\n",
    "len(nums3)\n"
   ]
  },
  {
   "cell_type": "code",
   "execution_count": 58,
   "id": "4e07774e-7645-45f5-a1ec-6709c54259dc",
   "metadata": {},
   "outputs": [
    {
     "name": "stdout",
     "output_type": "stream",
     "text": [
      "Original List: [0, 1, 2, 4, 5, 6, 7]\n",
      "Rotated List with 3 times rotated: [4, 5, 6, 7, 0, 1, 2]\n",
      "\n",
      "Index of target:\n",
      "\n",
      "with target = 0, index = 4\n"
     ]
    }
   ],
   "source": [
    "rotating_num2 = 3\n",
    "target = 0\n",
    "nums3_rotated = nums3[rotating_num2:] + nums3[:rotating_num2]\n",
    "\n",
    "\n",
    "print(f\"Original List: {nums3}\")\n",
    "print(f\"Rotated List with {rotating_num2} times rotated: {nums3_rotated}\")\n",
    "print(f\"\\nIndex of target:\\n\")\n",
    "\n",
    "try:\n",
    "    print(f\"with target = {target}, index = {nums3_rotated.index(target)}\")\n",
    "except Exception:\n",
    "    print(-1)"
   ]
  },
  {
   "cell_type": "markdown",
   "id": "5f732f05-819b-405e-97c6-ddf2058e9073",
   "metadata": {},
   "source": [
    "#### __15. 3Sum:__\n",
    "Given an integer array nums, return all the triplets [nums[i], nums[j], nums[k]] such that i != j, i != k, and j != k, and nums[i] + nums[j] + nums[k] == 0.\n",
    "\n",
    "Notice that the solution set must not contain duplicate triplets."
   ]
  },
  {
   "cell_type": "code",
   "execution_count": 4,
   "id": "d836e810-e88a-4861-a883-e577c4182cfb",
   "metadata": {},
   "outputs": [
    {
     "data": {
      "text/plain": [
       "6"
      ]
     },
     "execution_count": 4,
     "metadata": {},
     "output_type": "execute_result"
    }
   ],
   "source": [
    "nums4 = [-1,0,1,2,-1,-4]\n",
    "len(nums4)"
   ]
  },
  {
   "cell_type": "code",
   "execution_count": 85,
   "id": "0225c1da-f4e2-4e56-9f97-28f8137f5a42",
   "metadata": {},
   "outputs": [
    {
     "name": "stdout",
     "output_type": "stream",
     "text": [
      "0, 1, 2\n",
      "0, 1, 3\n",
      "0, 1, 4\n",
      "0, 1, 5\n",
      "0, 2, 3\n",
      "0, 2, 4\n",
      "0, 2, 5\n",
      "0, 3, 4\n",
      "0, 3, 5\n",
      "0, 4, 5\n",
      "1, 2, 3\n",
      "1, 2, 4\n",
      "1, 2, 5\n",
      "1, 3, 4\n",
      "1, 3, 5\n",
      "1, 4, 5\n",
      "2, 3, 4\n",
      "2, 3, 5\n",
      "2, 4, 5\n",
      "3, 4, 5\n"
     ]
    }
   ],
   "source": [
    "# print all the potential index numbers that meet the condition\n",
    "for i in range(0, len(nums4)-2):  \n",
    "    for b in range(1, len(nums4)-1):\n",
    "        for c in range(2, len(nums4)):\n",
    "            if i == b or b == c:\n",
    "                continue\n",
    "            elif i > b or b > c:\n",
    "                continue\n",
    "            else:\n",
    "                print(f\"{i}, {b}, {c}\")\n"
   ]
  },
  {
   "cell_type": "code",
   "execution_count": 7,
   "id": "c7c99dec-c13c-493d-8830-868ef7b96872",
   "metadata": {},
   "outputs": [
    {
     "data": {
      "text/plain": [
       "[0, 1, -2, -5, 2, -1, -4, 0, -3, -6, 3, 0, -3, 1, -2, -5, 2, -1, -4, -3]"
      ]
     },
     "execution_count": 7,
     "metadata": {},
     "output_type": "execute_result"
    },
    {
     "data": {
      "text/plain": [
       "[[-1, 0, 1],\n",
       " [-1, 0, 2],\n",
       " [-1, 0, -1],\n",
       " [-1, 0, -4],\n",
       " [-1, 1, 2],\n",
       " [-1, 1, -1],\n",
       " [-1, 1, -4],\n",
       " [-1, 2, -1],\n",
       " [-1, 2, -4],\n",
       " [-1, -1, -4],\n",
       " [0, 1, 2],\n",
       " [0, 1, -1],\n",
       " [0, 1, -4],\n",
       " [0, 2, -1],\n",
       " [0, 2, -4],\n",
       " [0, -1, -4],\n",
       " [1, 2, -1],\n",
       " [1, 2, -4],\n",
       " [1, -1, -4],\n",
       " [2, -1, -4]]"
      ]
     },
     "execution_count": 7,
     "metadata": {},
     "output_type": "execute_result"
    }
   ],
   "source": [
    "# print the output\n",
    "sum_array = []\n",
    "index_array = []\n",
    "group_index = []\n",
    "for i in range(0, len(nums4)-2):  \n",
    "    for b in range(1, len(nums4)-1):\n",
    "        for c in range(2, len(nums4)):\n",
    "            if nums4 == [] or nums4 == [0]:\n",
    "                sum_array = []\n",
    "                index_array = []\n",
    "            elif i == b or b == c:\n",
    "                continue\n",
    "            elif i > b or b > c:\n",
    "                continue\n",
    "            else:\n",
    "                sum_array.append(nums4[i] + nums4[b] + nums4[c])\n",
    "                group_index.append(nums4[i])\n",
    "                group_index.append(nums4[b])\n",
    "                group_index.append(nums4[c])\n",
    "                index_array.append(group_index)\n",
    "                group_index = []\n",
    "\n",
    "sum_array\n",
    "index_array\n",
    "item = 0\n",
    "\n",
    "output_array = []\n",
    "if sum_array == []:\n",
    "    output_array = []\n",
    "else:\n",
    "    for index, elem in enumerate(sum_array):\n",
    "        if elem == item:\n",
    "            output_array.append(index_array[index])"
   ]
  },
  {
   "cell_type": "code",
   "execution_count": 8,
   "id": "074e9bb7-83ed-4112-a143-8707db676a1a",
   "metadata": {},
   "outputs": [
    {
     "data": {
      "text/plain": [
       "[0, 1, -1]"
      ]
     },
     "execution_count": 8,
     "metadata": {},
     "output_type": "execute_result"
    },
    {
     "data": {
      "text/plain": [
       "[[-1, 0, 1], [-1, 2, -1]]"
      ]
     },
     "execution_count": 8,
     "metadata": {},
     "output_type": "execute_result"
    }
   ],
   "source": [
    "i = 0\n",
    "for n in range(1, len(output_array)):\n",
    "    if set(output_array[i]) == set(output_array[n]):\n",
    "        output_array.pop(n)\n",
    "\n",
    "output_array"
   ]
  },
  {
   "cell_type": "markdown",
   "id": "beca77c4-fbde-48f3-b720-181a8e1b479e",
   "metadata": {},
   "source": [
    "#### __11. Container With Most Water:__\n",
    "You are given an integer array height of length n. There are n vertical lines drawn such that the two endpoints of the ith line are (i, 0) and (i, height[i]).\n",
    "\n",
    "Find two lines that together with the x-axis form a container, such that the container contains the most water.\n",
    "\n",
    "Return the maximum amount of water a container can store.\n",
    "\n",
    "Notice that you may not slant the container."
   ]
  },
  {
   "cell_type": "code",
   "execution_count": 94,
   "id": "c439f817-5bfc-4294-8f80-b0caaf31a290",
   "metadata": {},
   "outputs": [
    {
     "data": {
      "text/plain": [
       "9"
      ]
     },
     "execution_count": 94,
     "metadata": {},
     "output_type": "execute_result"
    },
    {
     "data": {
      "text/plain": [
       "1"
      ]
     },
     "execution_count": 94,
     "metadata": {},
     "output_type": "execute_result"
    }
   ],
   "source": [
    "height = [1,8,6,2,5,4,8,3,7]\n",
    "len(height)\n",
    "height.index(max(height))"
   ]
  },
  {
   "cell_type": "code",
   "execution_count": 101,
   "id": "358f5fa3-392c-4314-9346-01c940f7f4b9",
   "metadata": {},
   "outputs": [
    {
     "data": {
      "text/plain": [
       "49"
      ]
     },
     "execution_count": 101,
     "metadata": {},
     "output_type": "execute_result"
    }
   ],
   "source": [
    "water_area = []\n",
    "max_index = height.index(max(height))\n",
    "max_num = max(height)\n",
    "starting_point = max_index\n",
    "\n",
    "for i in range(max_index, len(height)):\n",
    "    water_area.append(height[i]*(i-starting_point))\n",
    "\n",
    "max(water_area)"
   ]
  },
  {
   "cell_type": "markdown",
   "id": "b4d7911d-f5e2-4d22-9d8b-f85a631b514e",
   "metadata": {},
   "source": [
    "### __Revised solution #1:__\n",
    "#### __153. Find Minimum in Rotated Sorted Array:__\n",
    "Suppose an array of length n sorted in ascending order is rotated between 1 and n times. For example, the array nums = [0,1,2,4,5,6,7] might become:\n",
    "\n",
    "    [4,5,6,7,0,1,2] if it was rotated 4 times.\n",
    "    [0,1,2,4,5,6,7] if it was rotated 7 times.\n",
    "\n",
    "Notice that rotating an array [a[0], a[1], a[2], ..., a[n-1]] 1 time results in the array [a[n-1], a[0], a[1], a[2], ..., a[n-2]].\n",
    "\n",
    "Given the sorted rotated array nums of unique elements, return the minimum element of this array.\n",
    "\n",
    "You must write an algorithm that runs in O(log n) time."
   ]
  },
  {
   "cell_type": "code",
   "execution_count": 4,
   "id": "0053c24f-4564-4d60-8d20-c1c5355b1810",
   "metadata": {},
   "outputs": [
    {
     "data": {
      "text/plain": [
       "0"
      ]
     },
     "execution_count": 4,
     "metadata": {},
     "output_type": "execute_result"
    },
    {
     "data": {
      "text/plain": [
       "2"
      ]
     },
     "execution_count": 4,
     "metadata": {},
     "output_type": "execute_result"
    }
   ],
   "source": [
    "# O(log(n))\n",
    "\n",
    "#def get_min(lst_array):\n",
    "#\tfor value in lst_array:  #   => O(n)\n",
    "#\tn = len(lst_array)\n",
    "#  \tleft = 0\n",
    "#  \tright = n - 1\n",
    "#  \twhile (left <= right):\n",
    "#  \t\tmiddle = (left + right) // 2\n",
    "#    \tif value < lst_array[middle]:\n",
    "#    \t\tright = middle - 1\n",
    "#        elif value > lst_array[middle]:\n",
    "#            left = middle + 1\n",
    "#        else:\n",
    "#            return middle\n",
    "\n",
    "\n",
    "#1.[4,5,6,7,0,1,2] if it was rotated 4 times. => 0\n",
    "#2.[0,1,2,4,5,6,7] if it was rotated 7 times. => 0\n",
    "#3.[5,6,7,8,2,3] => 2\n",
    "#4.[7,4,5] => 4\n",
    "\n",
    "def get_min(nums):\n",
    "\n",
    "    l = 0 #left index\n",
    "    r = len(nums) -1 #right index\n",
    "    \n",
    "    #edge case\n",
    "    if(nums[l]<nums[r]):\n",
    "        return nums[l]   \n",
    "    \n",
    "    while(l < r):\n",
    "        mid = (l + r) // 2\n",
    "        \n",
    "        if(nums[mid] > nums[mid+1]):\n",
    "            return nums[mid+1]\n",
    "         \n",
    "        if(nums[l] < nums[mid]):\n",
    "            l = mid+1\n",
    "        else:\n",
    "            r = mid\n",
    "  \n",
    "   # l == r == mid\n",
    "    return nums[mid] \n",
    "\n",
    "nums7 = [4,5,6,7,0,1,2]\n",
    "get_min(nums7)\n",
    "\n",
    "nums8 = [5,6,7,8,2,3,4]\n",
    "get_min(nums8)"
   ]
  },
  {
   "cell_type": "markdown",
   "id": "2f649e26-1268-4ac4-991c-559b6f367f25",
   "metadata": {},
   "source": [
    "### __Revised solution #2:__\n",
    "#### __217. Contains Duplicate:__\n",
    "Given an integer array nums, return true if any value appears at least twice in the array, and return false if every element is distinct.\n",
    "\n",
    "Example:\n",
    "\n",
    "Input: nums = [1,2,3,1]\n",
    "Output: true\n",
    "\n",
    "Input: nums = [1,2,3,4]\n",
    "Output: false\n",
    "\n",
    "#### __Note: in C++ & C Sharp__"
   ]
  },
  {
   "cell_type": "code",
   "execution_count": 5,
   "id": "0696c6ae-9867-4b05-9c37-bde1fbcd86d4",
   "metadata": {},
   "outputs": [
    {
     "ename": "SyntaxError",
     "evalue": "invalid syntax (2273100574.py, line 7)",
     "output_type": "error",
     "traceback": [
      "\u001b[1;36m  Input \u001b[1;32mIn [5]\u001b[1;36m\u001b[0m\n\u001b[1;33m    bool array_checker(int* arr, int arrSize) {\u001b[0m\n\u001b[1;37m         ^\u001b[0m\n\u001b[1;31mSyntaxError\u001b[0m\u001b[1;31m:\u001b[0m invalid syntax\n"
     ]
    }
   ],
   "source": [
    "# In C++\n",
    "\n",
    "#include <stdio.h>\n",
    "#include <stlib.h>\n",
    "#include <bool.h>\n",
    "#O(N^2)(time) #O(1)(space)\n",
    "bool array_checker(int* arr, int arrSize) {  \n",
    "\tfor (int i = 0; i < arrSize - 1; i++) {\n",
    "  \tfor (int j = i + 1; j < arrSize; j++) {\n",
    "    \tif (arr[i] == arr[j]) return false;\n",
    "    }\n",
    "  }\n",
    "  return true;\n",
    "}\n",
    "\n",
    "|\n",
    "V\n",
    "\n",
    "// hasing(n)    O(N) -> O(1)\n",
    "[1,2,3,1,1,1,1,1]\n",
    "bool array_checker2(int *arr, int arrSize) {\n",
    "\tint size = arrSize * 2;\n",
    "\tbool hash_arry[size] = {0}; \n",
    "\tfor (int i = 0; i < arrSize; i++) {\n",
    "  \tif (hash_array[hashing[nums[i]]] == true) return true\n",
    "    hash_array[hashing[nums[i]]] = true;\n",
    "  }\n",
    "  \n",
    "  return false;\n",
    "  O(1); => constant\n",
    "  O(n) -> linear to the input   \n",
    "}\n",
    "\n",
    "# In C Sharp\n",
    "public class Solution {\n",
    "    public bool ContainsDuplicate(int[] nums) {\n",
    "        Dictionary<int, bool> numDict = new Dictionary<int, bool>();\n",
    "        \n",
    "        foreach(int num in nums)\n",
    "        {\n",
    "            if(numDict.ContainsKey(num))\n",
    "            {\n",
    "                return true;\n",
    "            }\n",
    "            \n",
    "            numDict.Add(num, true);\n",
    "            \n",
    "        }\n",
    "        \n",
    "        return false;\n",
    "    }\n",
    "}\n"
   ]
  },
  {
   "cell_type": "code",
   "execution_count": null,
   "id": "4c669b3a-8508-40fe-a134-db4b12254ac9",
   "metadata": {},
   "outputs": [],
   "source": []
  }
 ],
 "metadata": {
  "kernelspec": {
   "display_name": "Python 3 (ipykernel)",
   "language": "python",
   "name": "python3"
  },
  "language_info": {
   "codemirror_mode": {
    "name": "ipython",
    "version": 3
   },
   "file_extension": ".py",
   "mimetype": "text/x-python",
   "name": "python",
   "nbconvert_exporter": "python",
   "pygments_lexer": "ipython3",
   "version": "3.9.12"
  }
 },
 "nbformat": 4,
 "nbformat_minor": 5
}
