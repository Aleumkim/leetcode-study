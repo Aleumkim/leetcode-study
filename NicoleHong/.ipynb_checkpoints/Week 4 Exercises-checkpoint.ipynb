{
 "cells": [
  {
   "cell_type": "code",
   "execution_count": 1,
   "id": "03547531-2ccb-4e80-a223-75e6cd44aa1d",
   "metadata": {},
   "outputs": [],
   "source": [
    "import numpy as np\n",
    "import pandas as pd\n",
    "\n",
    "# to be able to see multiple ouputs from sungle cell\n",
    "from IPython.core.interactiveshell import InteractiveShell\n",
    "InteractiveShell.ast_node_interactivity = \"all\""
   ]
  },
  {
   "cell_type": "markdown",
   "id": "f316b8f0-81cd-4b78-9623-63f48ad3d0e4",
   "metadata": {},
   "source": [
    "#### __70. Climbing Stairs:__\n",
    "You are climbing a staircase. It takes n steps to reach the top.\n",
    "\n",
    "Each time you can either climb 1 or 2 steps. In how many distinct ways can you climb to the top?\n",
    "\n",
    "_Refernce Links:_\n",
    "* https://leetcode.com/problems/climbing-stairs/\n",
    "* https://www.geeksforgeeks.org/count-ways-reach-nth-stair/\n",
    "* https://www.geeksforgeeks.org/program-for-nth-fibonacci-number/"
   ]
  },
  {
   "cell_type": "code",
   "execution_count": 3,
   "id": "6a60bf28-f2e5-4c95-8a51-91870b1ac702",
   "metadata": {},
   "outputs": [
    {
     "data": {
      "text/plain": [
       "1"
      ]
     },
     "execution_count": 3,
     "metadata": {},
     "output_type": "execute_result"
    },
    {
     "data": {
      "text/plain": [
       "1"
      ]
     },
     "execution_count": 3,
     "metadata": {},
     "output_type": "execute_result"
    },
    {
     "data": {
      "text/plain": [
       "2"
      ]
     },
     "execution_count": 3,
     "metadata": {},
     "output_type": "execute_result"
    },
    {
     "data": {
      "text/plain": [
       "3"
      ]
     },
     "execution_count": 3,
     "metadata": {},
     "output_type": "execute_result"
    }
   ],
   "source": [
    "# function for fibonacci numbers\n",
    "def fib(n):\n",
    "    if n <=1:\n",
    "        return n\n",
    "    else:\n",
    "        return fib(n-1) + fib(n-2)\n",
    "\n",
    "fib(1)\n",
    "fib(2)\n",
    "fib(3)\n",
    "fib(4)"
   ]
  },
  {
   "cell_type": "code",
   "execution_count": 4,
   "id": "d5deb9c4-6ff2-4bf8-8d0f-d1387bffdff8",
   "metadata": {},
   "outputs": [
    {
     "data": {
      "text/plain": [
       "2"
      ]
     },
     "execution_count": 4,
     "metadata": {},
     "output_type": "execute_result"
    },
    {
     "data": {
      "text/plain": [
       "3"
      ]
     },
     "execution_count": 4,
     "metadata": {},
     "output_type": "execute_result"
    },
    {
     "data": {
      "text/plain": [
       "5"
      ]
     },
     "execution_count": 4,
     "metadata": {},
     "output_type": "execute_result"
    }
   ],
   "source": [
    "def climbStairs(s):\n",
    "    \"\"\"\n",
    "    :type n: int\n",
    "    :rtype: int\n",
    "    \"\"\"\n",
    "    \n",
    "    def fib(n):\n",
    "        if n <= 1:\n",
    "            return n\n",
    "        else:\n",
    "            return fib(n-1) + fib(n-2)\n",
    "    \n",
    "    \n",
    "    return fib(s + 1)  \n",
    "    \n",
    "climbStairs(2)\n",
    "climbStairs(3)\n",
    "climbStairs(4)"
   ]
  },
  {
   "cell_type": "markdown",
   "id": "588dc457-e470-49d8-90b6-4caad61ab214",
   "metadata": {},
   "source": [
    "#### __322. Coin Change:__\n",
    "You are given an integer array coins representing coins of different denominations and an integer amount representing a total amount of money.\n",
    "\n",
    "Return the fewest number of coins that you need to make up that amount. If that amount of money cannot be made up by any combination of the coins, return -1.\n",
    "\n",
    "You may assume that you have an infinite number of each kind of coin.\n",
    "\n",
    "_Refernce Links:_\n",
    "* https://leetcode.com/problems/coin-change/\n",
    "* "
   ]
  },
  {
   "cell_type": "code",
   "execution_count": 13,
   "id": "0771765e-2de8-48d5-8f8c-1a7229c3cc5d",
   "metadata": {},
   "outputs": [
    {
     "data": {
      "text/plain": [
       "5"
      ]
     },
     "execution_count": 13,
     "metadata": {},
     "output_type": "execute_result"
    }
   ],
   "source": [
    "coins = [1,2,5]\n",
    "amount = 11\n",
    "max(coins)"
   ]
  },
  {
   "cell_type": "code",
   "execution_count": 6,
   "id": "2467ac1e-f348-4986-aecf-8316fb9c4e69",
   "metadata": {},
   "outputs": [
    {
     "data": {
      "text/plain": [
       "9223372036854775807"
      ]
     },
     "execution_count": 6,
     "metadata": {},
     "output_type": "execute_result"
    }
   ],
   "source": [
    "import sys\n",
    "sys.maxsize"
   ]
  },
  {
   "cell_type": "code",
   "execution_count": 14,
   "id": "a550145b-6f3f-447b-a141-86d457d90a62",
   "metadata": {},
   "outputs": [
    {
     "name": "stdout",
     "output_type": "stream",
     "text": [
      "0\n",
      "99\n",
      "99\n",
      "99\n",
      "99\n",
      "99\n",
      "99\n",
      "99\n",
      "99\n",
      "99\n",
      "0\n",
      "99\n",
      "10\n",
      "99\n",
      "9\n",
      "-1\n",
      "6\n",
      "99\n"
     ]
    }
   ],
   "source": [
    "if len(coins) > 1:\n",
    "    for i in range(len(coins)):\n",
    "        if coins[i] <= amount:\n",
    "            sub_amount = amount - coins[i]\n",
    "            sub_res = coinChange(coins[i+1:], sub_amount)\n",
    "            print(sub_amount)\n",
    "            print(sub_res)"
   ]
  },
  {
   "cell_type": "code",
   "execution_count": 22,
   "id": "af6cbf40-aea4-40c6-aacf-0689788f0768",
   "metadata": {},
   "outputs": [
    {
     "data": {
      "text/plain": [
       "0"
      ]
     },
     "execution_count": 22,
     "metadata": {},
     "output_type": "execute_result"
    },
    {
     "data": {
      "text/plain": [
       "-1"
      ]
     },
     "execution_count": 22,
     "metadata": {},
     "output_type": "execute_result"
    }
   ],
   "source": [
    "def coinChange(coins, num, amount):\n",
    "    \"\"\"\n",
    "    :type coins: List[int]\n",
    "    :type amount: int\n",
    "    :rtype: int\n",
    "    \"\"\"\n",
    "    if amount == 0:\n",
    "        num = 0\n",
    "    \n",
    "    if len(coins) == 1 and amount > coins[0]:\n",
    "        num = -1\n",
    "    \n",
    "    if len(coins) > 1:\n",
    "        sub_amount = amount - max(coins)\n",
    "        num += 1\n",
    "        #print(f\"1: {sub_amount}, {num}\")\n",
    "        while sub_amount > 1:\n",
    "            if sub_amount >= max(coins):\n",
    "                sub_amount = sub_amount - max(coins)\n",
    "                if sub_amount > 0:\n",
    "                    num += 1\n",
    "                elif sub_amount == 0:\n",
    "                    num += 1\n",
    "                    break\n",
    "                else:\n",
    "                    sub_amount = sub_amount + max(coins)\n",
    "            elif sub_amount > 0 and sub_amount < max(coins):\n",
    "                n = sorted(coins)[-2]\n",
    "                sub_amount = sub_amount - n\n",
    "                if sub_amount > 0:\n",
    "                    num += 1\n",
    "                elif sub_amount == 0:\n",
    "                    num += 1\n",
    "                    break\n",
    "                else:\n",
    "                    sub_amount = sub_amount + n\n",
    "            elif sub_amount < 0:\n",
    "                sub_amount = amount + max(coins)\n",
    "                sub_amount = amount - min(coins)\n",
    "                if sub_amount > 0:\n",
    "                    num += 1\n",
    "                elif sub_amount == 0:\n",
    "                    num += 1\n",
    "                    break\n",
    "                else:\n",
    "                    sub_amount = sub_amount + min(coins)\n",
    "\n",
    "    return num\n",
    "\n",
    "coins1 = [1]\n",
    "amount1 = 0\n",
    "coinChange(coins1, 0, amount1)\n",
    "coins2 = [2]\n",
    "amount2 = 3\n",
    "coinChange(coins2, 0, amount2)"
   ]
  },
  {
   "cell_type": "code",
   "execution_count": 23,
   "id": "697b843c-144c-437a-9372-e3579d684644",
   "metadata": {},
   "outputs": [
    {
     "data": {
      "text/plain": [
       "2"
      ]
     },
     "execution_count": 23,
     "metadata": {},
     "output_type": "execute_result"
    }
   ],
   "source": [
    "coins3 = [1,2,5]\n",
    "amount3 = 11\n",
    "coinChange(coins3, 0, amount3)    "
   ]
  },
  {
   "cell_type": "code",
   "execution_count": 4,
   "id": "2c2b2d18-e241-4d8e-8411-d486e0a92228",
   "metadata": {},
   "outputs": [
    {
     "data": {
      "text/plain": [
       "2"
      ]
     },
     "execution_count": 4,
     "metadata": {},
     "output_type": "execute_result"
    }
   ],
   "source": [
    "sorted(coins3)[-2]"
   ]
  },
  {
   "cell_type": "code",
   "execution_count": 8,
   "id": "875379e6-a36e-49b5-ba0f-f0877b05d4ca",
   "metadata": {},
   "outputs": [
    {
     "data": {
      "text/plain": [
       "3"
      ]
     },
     "execution_count": 8,
     "metadata": {},
     "output_type": "execute_result"
    },
    {
     "data": {
      "text/plain": [
       "5"
      ]
     },
     "execution_count": 8,
     "metadata": {},
     "output_type": "execute_result"
    }
   ],
   "source": [
    "len(coins3)\n",
    "max(coins3)"
   ]
  },
  {
   "cell_type": "markdown",
   "id": "58191cf5-74b6-4bfa-928b-2d10f57c7059",
   "metadata": {
    "tags": []
   },
   "source": [
    "#### __300. Longest Increasing Subsequence:__\n",
    "Given an integer array nums, return the length of the longest strictly increasing subsequence.\n",
    "\n",
    "A subsequence is a sequence that can be derived from an array by deleting some or no elements without changing the order of the remaining elements. For example, [3,6,2,7] is a subsequence of the array [0,3,1,6,2,2,7].\n",
    "\n",
    "_Reference Link:_\n",
    "* https://leetcode.com/problems/longest-increasing-subsequence/"
   ]
  },
  {
   "cell_type": "code",
   "execution_count": 7,
   "id": "ac2f0b9b-e899-4e2e-8af0-60f652f40b7c",
   "metadata": {},
   "outputs": [
    {
     "data": {
      "text/plain": [
       "1"
      ]
     },
     "execution_count": 7,
     "metadata": {},
     "output_type": "execute_result"
    },
    {
     "data": {
      "text/plain": [
       "7"
      ]
     },
     "execution_count": 7,
     "metadata": {},
     "output_type": "execute_result"
    }
   ],
   "source": [
    "nums3 = [7,7,7,7,7,7,7]\n",
    "len(set(nums3))\n",
    "next(iter(set(nums3)))"
   ]
  },
  {
   "cell_type": "code",
   "execution_count": 16,
   "id": "a43d921d-701f-475e-89b7-accabfd0ee97",
   "metadata": {},
   "outputs": [
    {
     "data": {
      "text/plain": [
       "{0, 1, 2, 3}"
      ]
     },
     "execution_count": 16,
     "metadata": {},
     "output_type": "execute_result"
    }
   ],
   "source": [
    "nums2 = [0,1,0,3,2,3]\n",
    "nums2.sort()\n",
    "set(nums2)"
   ]
  },
  {
   "cell_type": "code",
   "execution_count": 21,
   "id": "5a0c70b1-b2a3-4176-b4fe-398294bebe0b",
   "metadata": {},
   "outputs": [
    {
     "data": {
      "text/plain": [
       "[2, 5, 7, 101]"
      ]
     },
     "execution_count": 21,
     "metadata": {},
     "output_type": "execute_result"
    },
    {
     "data": {
      "text/plain": [
       "[10, 9, 2, 5, 3, 7, 101, 18]"
      ]
     },
     "execution_count": 21,
     "metadata": {},
     "output_type": "execute_result"
    }
   ],
   "source": [
    "nums1 = [10,9,2,5,3,7,101,18]  \n",
    "n = len(nums1)-1\n",
    "\n",
    "num_array = []\n",
    "for i in range(n):\n",
    "    if i == 0:\n",
    "        if nums1[i] < nums1[i+1]:\n",
    "            num_array.append(nums1[i])\n",
    "    elif len(num_array) > 0:\n",
    "        if nums1[i] > num_array[-1]:\n",
    "            num_array.append(nums1[i]) \n",
    "    else:\n",
    "        if nums1[i] < nums1[i+1]:\n",
    "            num_array.append(nums1[i])  \n",
    "\n",
    "num_array\n",
    "nums1"
   ]
  },
  {
   "cell_type": "code",
   "execution_count": 58,
   "id": "0a8ea188-2c12-4306-ba79-62d2728f1833",
   "metadata": {},
   "outputs": [
    {
     "data": {
      "text/plain": [
       "[(0, 2), (1, 1), (2, 1), (3, 2)]"
      ]
     },
     "execution_count": 58,
     "metadata": {},
     "output_type": "execute_result"
    },
    {
     "data": {
      "text/plain": [
       "(2, 1)"
      ]
     },
     "execution_count": 58,
     "metadata": {},
     "output_type": "execute_result"
    },
    {
     "data": {
      "text/plain": [
       "(3, 2)"
      ]
     },
     "execution_count": 58,
     "metadata": {},
     "output_type": "execute_result"
    },
    {
     "data": {
      "text/plain": [
       "2"
      ]
     },
     "execution_count": 58,
     "metadata": {},
     "output_type": "execute_result"
    },
    {
     "data": {
      "text/plain": [
       "4"
      ]
     },
     "execution_count": 58,
     "metadata": {},
     "output_type": "execute_result"
    },
    {
     "data": {
      "text/plain": [
       "3"
      ]
     },
     "execution_count": 58,
     "metadata": {},
     "output_type": "execute_result"
    },
    {
     "data": {
      "text/plain": [
       "5"
      ]
     },
     "execution_count": 58,
     "metadata": {},
     "output_type": "execute_result"
    },
    {
     "data": {
      "text/plain": [
       "False"
      ]
     },
     "execution_count": 58,
     "metadata": {},
     "output_type": "execute_result"
    }
   ],
   "source": [
    "from collections import Counter\n",
    "sorted(list(Counter(nums2).items()))\n",
    "sorted(list(Counter(nums2).items()))[-2]\n",
    "max(sorted(list(Counter(nums2).items())))\n",
    "max(sorted(list(Counter(nums2).items())))[1]\n",
    "nums2.index(2)\n",
    "nums2.index(3)\n",
    "\n",
    "nums2[nums2.index(3)+1:].index(3)+nums2.index(3)+1\n",
    "2 not in nums2"
   ]
  },
  {
   "cell_type": "code",
   "execution_count": 61,
   "id": "4e07774e-7645-45f5-a1ec-6709c54259dc",
   "metadata": {},
   "outputs": [
    {
     "data": {
      "text/plain": [
       "[2, 5, 7, 101]"
      ]
     },
     "execution_count": 61,
     "metadata": {},
     "output_type": "execute_result"
    },
    {
     "data": {
      "text/plain": [
       "[7]"
      ]
     },
     "execution_count": 61,
     "metadata": {},
     "output_type": "execute_result"
    }
   ],
   "source": [
    "from collections import Counter\n",
    "\n",
    "def lengthOfLIS(nums):\n",
    "    \"\"\"\n",
    "    :type nums: List[int]\n",
    "    :rtype: int\n",
    "    \"\"\"\n",
    "    n = len(nums)-1\n",
    "    num_array = []\n",
    "    for i in range(n):\n",
    "        if i == 0:\n",
    "            if nums[i] <= nums[i+1]:\n",
    "                num_array.append(nums[i])\n",
    "        elif len(num_array) > 0:\n",
    "            if nums[i] > num_array[-1]:\n",
    "                num_array.append(nums[i]) \n",
    "        else:\n",
    "            if nums[i] <= nums[i+1]:\n",
    "                num_array.append(nums[i])  \n",
    "    \n",
    "    \n",
    "    check_array = sorted(list(Counter(nums).items()))\n",
    "    \n",
    "    if max(check_array)[1] > 1:\n",
    "        max_num = max(nums)\n",
    "        index_duplictmax = nums[nums.index(max_num)+1:].index(max_num)+nums.index(max_num)+1\n",
    "        secondlarge = sorted(nums)[-2]\n",
    "        index_secondlarge = nums.index(secondlarge)\n",
    "        if index_secondlarge < index_duplictmax and secondlarge not in num_array:\n",
    "            num_array.append(secondlarge)\n",
    "            \n",
    "    #len_array = len(num_array)\n",
    "    return sorted(num_array)\n",
    "    \n",
    "nums1 = [10,9,2,5,3,7,101,18]        \n",
    "nums3 = [7,7,7,7,7,7,7]\n",
    "lengthOfLIS(nums1)\n",
    "lengthOfLIS(nums3)"
   ]
  },
  {
   "cell_type": "code",
   "execution_count": 80,
   "id": "5dcc9316-bc6a-411f-9fdf-2ee74384b4a8",
   "metadata": {},
   "outputs": [
    {
     "data": {
      "text/plain": [
       "([2, 5, 7, 101], 4)"
      ]
     },
     "execution_count": 80,
     "metadata": {},
     "output_type": "execute_result"
    },
    {
     "data": {
      "text/plain": [
       "([0, 1, 2, 3], 4)"
      ]
     },
     "execution_count": 80,
     "metadata": {},
     "output_type": "execute_result"
    },
    {
     "data": {
      "text/plain": [
       "([7], 1)"
      ]
     },
     "execution_count": 80,
     "metadata": {},
     "output_type": "execute_result"
    }
   ],
   "source": [
    "from collections import Counter\n",
    "\n",
    "def lengthOfLIS(nums):\n",
    "    \"\"\"\n",
    "    :type nums: List[int]\n",
    "    :rtype: int\n",
    "    \"\"\"\n",
    "    n = len(nums)-1\n",
    "    num_array = []\n",
    "    for i in range(n):\n",
    "        if i == 0:\n",
    "            if nums[i] <= nums[i+1]:\n",
    "                num_array.append(nums[i])\n",
    "        elif len(num_array) > 0:\n",
    "            if nums[i] > num_array[-1]:\n",
    "                num_array.append(nums[i]) \n",
    "        else:\n",
    "            if nums[i] <= nums[i+1]:\n",
    "                num_array.append(nums[i])  \n",
    "    \n",
    "    if len(num_array) > 1:\n",
    "        check_array = sorted(list(Counter(nums).items()))\n",
    "        if max(check_array)[1] > 1:\n",
    "            max_num = max(nums)\n",
    "            index_duplictmax = nums[nums.index(max_num)+1:].index(max_num)+nums.index(max_num)+1\n",
    "            secondlarge = check_array[-2][0]\n",
    "            index_secondlarge = nums.index(secondlarge)\n",
    "            if index_secondlarge < index_duplictmax and secondlarge not in num_array:\n",
    "                num_array.append(secondlarge)\n",
    "            \n",
    "    #len_array = len(num_array)\n",
    "    return sorted(num_array), len(num_array)\n",
    "\n",
    "nums1 = [10,9,2,5,3,7,101,18] \n",
    "nums2 = [0,1,0,3,2,3]\n",
    "nums3 = [7,7,7,7,7,7,7]\n",
    "lengthOfLIS(nums1)\n",
    "lengthOfLIS(nums2)\n",
    "lengthOfLIS(nums3)"
   ]
  },
  {
   "cell_type": "markdown",
   "id": "5f732f05-819b-405e-97c6-ddf2058e9073",
   "metadata": {},
   "source": [
    "#### __1143. Longest Common Subsequence:__\n",
    "Given two strings text1 and text2, return the length of their longest common subsequence. If there is no common subsequence, return 0.\n",
    "\n",
    "A subsequence of a string is a new string generated from the original string with some characters (can be none) deleted without changing the relative order of the remaining characters.\n",
    "\n",
    "    For example, \"ace\" is a subsequence of \"abcde\".\n",
    "\n",
    "A common subsequence of two strings is a subsequence that is common to both strings.\n",
    "\n",
    "_Reference Links:_\n",
    "* https://leetcode.com/problems/longest-common-subsequence/"
   ]
  },
  {
   "cell_type": "code",
   "execution_count": 1,
   "id": "f977e726-00d3-4de5-b84e-6999b557f705",
   "metadata": {},
   "outputs": [
    {
     "data": {
      "text/plain": [
       "3"
      ]
     },
     "execution_count": 1,
     "metadata": {},
     "output_type": "execute_result"
    }
   ],
   "source": [
    "text1 = \"abcde\"\n",
    "text2 = \"ace\" \n",
    "count = 0\n",
    "for i in range(len(text2)):\n",
    "    for j in range(len(text1)):\n",
    "        if text2[i] == text1[j]:\n",
    "            count += 1    \n",
    "\n",
    "count"
   ]
  },
  {
   "cell_type": "code",
   "execution_count": 4,
   "id": "0225c1da-f4e2-4e56-9f97-28f8137f5a42",
   "metadata": {},
   "outputs": [
    {
     "data": {
      "text/plain": [
       "3"
      ]
     },
     "execution_count": 4,
     "metadata": {},
     "output_type": "execute_result"
    },
    {
     "data": {
      "text/plain": [
       "3"
      ]
     },
     "execution_count": 4,
     "metadata": {},
     "output_type": "execute_result"
    },
    {
     "data": {
      "text/plain": [
       "0"
      ]
     },
     "execution_count": 4,
     "metadata": {},
     "output_type": "execute_result"
    }
   ],
   "source": [
    "def longestCommonSubsequence(texta, textb):\n",
    "    \"\"\"\n",
    "    :type text1: str\n",
    "    :type text2: str\n",
    "    :rtype: int\n",
    "    \"\"\"\n",
    "    count = 0\n",
    "    for i in range(len(texta)):\n",
    "        for j in range(len(textb)):\n",
    "            if texta[i] == textb[j]:\n",
    "                count += 1  \n",
    "\n",
    "    return count\n",
    "    \n",
    "text1 = \"abcde\"\n",
    "text2 = \"ace\" \n",
    "longestCommonSubsequence(text1, text2)\n",
    "\n",
    "text3 = \"abc\"\n",
    "text4 = \"abc\"\n",
    "longestCommonSubsequence(text3, text4)\n",
    "\n",
    "text5 = \"abc\"\n",
    "text6 = \"def\"\n",
    "longestCommonSubsequence(text5, text6)"
   ]
  },
  {
   "cell_type": "markdown",
   "id": "beca77c4-fbde-48f3-b720-181a8e1b479e",
   "metadata": {},
   "source": [
    "#### __139. Word Break:__\n",
    "Given a string s and a dictionary of strings wordDict, return true if s can be segmented into a space-separated sequence of one or more dictionary words.\n",
    "\n",
    "Note that the same word in the dictionary may be reused multiple times in the segmentation.\n",
    "\n",
    "_Reference Links:_\n",
    "* https://leetcode.com/problems/word-break/\n"
   ]
  },
  {
   "cell_type": "code",
   "execution_count": 14,
   "id": "8afa2258-0c76-41eb-b6ef-cb517bf4f56f",
   "metadata": {},
   "outputs": [
    {
     "data": {
      "text/plain": [
       "True"
      ]
     },
     "execution_count": 14,
     "metadata": {},
     "output_type": "execute_result"
    },
    {
     "data": {
      "text/plain": [
       "8"
      ]
     },
     "execution_count": 14,
     "metadata": {},
     "output_type": "execute_result"
    }
   ],
   "source": [
    "s = \"leetcode\"\n",
    "wordDict = [\"leet\",\"code\"]\n",
    "\n",
    "word_check = []\n",
    "for word in wordDict:\n",
    "    if word in s:\n",
    "        word_check.append(1)\n",
    "    else:\n",
    "        word_check.append(0)\n",
    "\n",
    "set(word_check) == {1}\n",
    "\n",
    "len(''.join(wordDict))"
   ]
  },
  {
   "cell_type": "code",
   "execution_count": 15,
   "id": "358f5fa3-392c-4314-9346-01c940f7f4b9",
   "metadata": {},
   "outputs": [
    {
     "data": {
      "text/plain": [
       "True"
      ]
     },
     "execution_count": 15,
     "metadata": {},
     "output_type": "execute_result"
    },
    {
     "data": {
      "text/plain": [
       "True"
      ]
     },
     "execution_count": 15,
     "metadata": {},
     "output_type": "execute_result"
    },
    {
     "data": {
      "text/plain": [
       "False"
      ]
     },
     "execution_count": 15,
     "metadata": {},
     "output_type": "execute_result"
    }
   ],
   "source": [
    "def wordBreak(s, wordDict):\n",
    "    \"\"\"\n",
    "    :type s: str\n",
    "    :type wordDict: List[str]\n",
    "    :rtype: bool\n",
    "    \"\"\"\n",
    "    word_check = []\n",
    "    for word in wordDict:\n",
    "        if word in s:\n",
    "            word_check.append(\"yes\")\n",
    "        else:\n",
    "            word_check.append(\"no\")\n",
    "    \n",
    "    if set(word_check) == {\"yes\"} and len(s) >= len(''.join(wordDict)):\n",
    "        return True\n",
    "    else:\n",
    "        return False\n",
    " \n",
    "    \n",
    "s1 = \"leetcode\"\n",
    "wordDict1 = [\"leet\",\"code\"]\n",
    "wordBreak(s1, wordDict1)\n",
    "\n",
    "s2 = \"applepenapple\"\n",
    "wordDict2 = [\"apple\",\"pen\"]\n",
    "wordBreak(s2, wordDict2)\n",
    "\n",
    "s3 = \"catsandog\"\n",
    "wordDict3 = [\"cats\",\"dog\",\"sand\",\"and\",\"cat\"]\n",
    "wordBreak(s3, wordDict3)  "
   ]
  },
  {
   "cell_type": "code",
   "execution_count": null,
   "id": "4c669b3a-8508-40fe-a134-db4b12254ac9",
   "metadata": {},
   "outputs": [],
   "source": []
  }
 ],
 "metadata": {
  "kernelspec": {
   "display_name": "Python 3 (ipykernel)",
   "language": "python",
   "name": "python3"
  },
  "language_info": {
   "codemirror_mode": {
    "name": "ipython",
    "version": 3
   },
   "file_extension": ".py",
   "mimetype": "text/x-python",
   "name": "python",
   "nbconvert_exporter": "python",
   "pygments_lexer": "ipython3",
   "version": "3.9.12"
  }
 },
 "nbformat": 4,
 "nbformat_minor": 5
}
