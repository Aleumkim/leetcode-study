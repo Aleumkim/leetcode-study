{
 "cells": [
  {
   "cell_type": "code",
   "execution_count": 1,
   "id": "03547531-2ccb-4e80-a223-75e6cd44aa1d",
   "metadata": {},
   "outputs": [],
   "source": [
    "import numpy as np\n",
    "import pandas as pd\n",
    "\n",
    "# to be able to see multiple ouputs from sungle cell\n",
    "from IPython.core.interactiveshell import InteractiveShell\n",
    "InteractiveShell.ast_node_interactivity = \"all\""
   ]
  },
  {
   "cell_type": "markdown",
   "id": "f316b8f0-81cd-4b78-9623-63f48ad3d0e4",
   "metadata": {},
   "source": [
    "#### __371. Sum of Two Integers:__\n",
    "Given two integers a and b, return the sum of the two integers without using the operators + and -.\n",
    "\n",
    "_Refernce Links:_\n",
    "* https://leetcode.com/problems/sum-of-two-integers/\n",
    "* https://www.w3resource.com/python-exercises/basic/python-basic-1-exercise-14.php\n",
    "* https://www.sciencedirect.com/topics/computer-science/binary-to-decimal-conversion\n",
    "* https://realpython.com/python-operators-expressions/\n",
    "* https://realpython.com/python-bitwise-operators/"
   ]
  },
  {
   "cell_type": "code",
   "execution_count": 15,
   "id": "6a60bf28-f2e5-4c95-8a51-91870b1ac702",
   "metadata": {},
   "outputs": [
    {
     "name": "stdout",
     "output_type": "stream",
     "text": [
      "Trial 1:\n"
     ]
    },
    {
     "data": {
      "text/plain": [
       "2"
      ]
     },
     "execution_count": 15,
     "metadata": {},
     "output_type": "execute_result"
    },
    {
     "data": {
      "text/plain": [
       "1"
      ]
     },
     "execution_count": 15,
     "metadata": {},
     "output_type": "execute_result"
    },
    {
     "data": {
      "text/plain": [
       "4"
      ]
     },
     "execution_count": 15,
     "metadata": {},
     "output_type": "execute_result"
    },
    {
     "name": "stdout",
     "output_type": "stream",
     "text": [
      "\n",
      "Trial 2:\n"
     ]
    },
    {
     "data": {
      "text/plain": [
       "0"
      ]
     },
     "execution_count": 15,
     "metadata": {},
     "output_type": "execute_result"
    },
    {
     "data": {
      "text/plain": [
       "5"
      ]
     },
     "execution_count": 15,
     "metadata": {},
     "output_type": "execute_result"
    },
    {
     "data": {
      "text/plain": [
       "0"
      ]
     },
     "execution_count": 15,
     "metadata": {},
     "output_type": "execute_result"
    }
   ],
   "source": [
    "a = 2\n",
    "b = 3\n",
    "\n",
    "# trial 1\n",
    "print(\"Trial 1:\")\n",
    "data = a & b\n",
    "a = a ^ b\n",
    "data\n",
    "a\n",
    "b = data << 1\n",
    "b\n",
    "# trial 2\n",
    "print(\"\\nTrial 2:\")\n",
    "data = a & b\n",
    "a = a ^ b\n",
    "data\n",
    "a\n",
    "b = data << 1\n",
    "b"
   ]
  },
  {
   "cell_type": "code",
   "execution_count": 7,
   "id": "d5deb9c4-6ff2-4bf8-8d0f-d1387bffdff8",
   "metadata": {},
   "outputs": [
    {
     "data": {
      "text/plain": [
       "5"
      ]
     },
     "execution_count": 7,
     "metadata": {},
     "output_type": "execute_result"
    }
   ],
   "source": [
    "def getSum(a, b):\n",
    "    \"\"\"\n",
    "    :type a: int\n",
    "    :type b: int\n",
    "    :rtype: int\n",
    "    \"\"\"\n",
    "    while b != 0:\n",
    "        data = a & b\n",
    "        a = a ^ b\n",
    "        b = data << 1\n",
    "    \n",
    "    return a\n",
    "\n",
    "getSum(2, 3)    "
   ]
  },
  {
   "cell_type": "markdown",
   "id": "588dc457-e470-49d8-90b6-4caad61ab214",
   "metadata": {},
   "source": [
    "#### __191. Number of 1 Bits:__\n",
    "Write a function that takes an unsigned integer and returns the number of '1' bits it has (also known as the Hamming weight).\n",
    "\n",
    "Note:\n",
    "\n",
    "    Note that in some languages, such as Java, there is no unsigned integer type. In this case, the input will be given as a signed integer type. It should not affect your implementation, as the integer's internal binary representation is the same, whether it is signed or unsigned.\n",
    "    In Java, the compiler represents the signed integers using 2's complement notation. Therefore, in Example 3, the input represents the signed integer. -3.\n",
    "\n",
    "_Refernce Links:_\n",
    "* https://leetcode.com/problems/number-of-1-bits/\n",
    "* https://stackoverflow.com/questions/20766813/how-to-convert-signed-to-unsigned-integer-in-python"
   ]
  },
  {
   "cell_type": "code",
   "execution_count": 32,
   "id": "0771765e-2de8-48d5-8f8c-1a7229c3cc5d",
   "metadata": {},
   "outputs": [
    {
     "data": {
      "text/plain": [
       "'00000000000000000000000000001011'"
      ]
     },
     "execution_count": 32,
     "metadata": {},
     "output_type": "execute_result"
    }
   ],
   "source": [
    "n1"
   ]
  },
  {
   "cell_type": "code",
   "execution_count": 35,
   "id": "2467ac1e-f348-4986-aecf-8316fb9c4e69",
   "metadata": {},
   "outputs": [
    {
     "data": {
      "text/plain": [
       "31"
      ]
     },
     "execution_count": 35,
     "metadata": {},
     "output_type": "execute_result"
    }
   ],
   "source": [
    "count = 0\n",
    "for i in n3:\n",
    "    if i == '1':\n",
    "        count += 1\n",
    "\n",
    "count"
   ]
  },
  {
   "cell_type": "code",
   "execution_count": 18,
   "id": "d5ead7ca-03df-47ce-a662-3ffdea0f51f6",
   "metadata": {},
   "outputs": [
    {
     "data": {
      "text/plain": [
       "-1"
      ]
     },
     "execution_count": 18,
     "metadata": {},
     "output_type": "execute_result"
    },
    {
     "data": {
      "text/plain": [
       "4294967295"
      ]
     },
     "execution_count": 18,
     "metadata": {},
     "output_type": "execute_result"
    },
    {
     "data": {
      "text/plain": [
       "'0b11111111111111111111111111111111'"
      ]
     },
     "execution_count": 18,
     "metadata": {},
     "output_type": "execute_result"
    }
   ],
   "source": [
    "-1\n",
    "_ + 2**32\n",
    "bin(_)"
   ]
  },
  {
   "cell_type": "code",
   "execution_count": 25,
   "id": "d6c1791e-cb61-44a6-bb3d-e457049b3be7",
   "metadata": {},
   "outputs": [
    {
     "data": {
      "text/plain": [
       "c_ulong(4294967295)"
      ]
     },
     "execution_count": 25,
     "metadata": {},
     "output_type": "execute_result"
    },
    {
     "data": {
      "text/plain": [
       "4294967295"
      ]
     },
     "execution_count": 25,
     "metadata": {},
     "output_type": "execute_result"
    }
   ],
   "source": [
    "import ctypes\n",
    "ctypes.c_ulong(-1)\n",
    "_.value"
   ]
  },
  {
   "cell_type": "code",
   "execution_count": 37,
   "id": "697b843c-144c-437a-9372-e3579d684644",
   "metadata": {},
   "outputs": [
    {
     "data": {
      "text/plain": [
       "'00000000000000000000000000001011'"
      ]
     },
     "execution_count": 37,
     "metadata": {},
     "output_type": "execute_result"
    },
    {
     "data": {
      "text/plain": [
       "'00000000000000000000000010000000'"
      ]
     },
     "execution_count": 37,
     "metadata": {},
     "output_type": "execute_result"
    },
    {
     "data": {
      "text/plain": [
       "'11111111111111111111111111111101'"
      ]
     },
     "execution_count": 37,
     "metadata": {},
     "output_type": "execute_result"
    }
   ],
   "source": [
    "n1 = '00000000000000000000000000001011'\n",
    "n2 = '00000000000000000000000010000000'\n",
    "n3 = '11111111111111111111111111111101'\n",
    "n1\n",
    "n2\n",
    "n3"
   ]
  },
  {
   "cell_type": "code",
   "execution_count": 38,
   "id": "3a60349a-731b-414f-93a4-2fe857d61d49",
   "metadata": {},
   "outputs": [
    {
     "data": {
      "text/plain": [
       "3"
      ]
     },
     "execution_count": 38,
     "metadata": {},
     "output_type": "execute_result"
    },
    {
     "data": {
      "text/plain": [
       "1"
      ]
     },
     "execution_count": 38,
     "metadata": {},
     "output_type": "execute_result"
    },
    {
     "data": {
      "text/plain": [
       "31"
      ]
     },
     "execution_count": 38,
     "metadata": {},
     "output_type": "execute_result"
    }
   ],
   "source": [
    "def hammingWeight(n):\n",
    "    \"\"\"\n",
    "    :type n: int\n",
    "    :rtype: int\n",
    "    \"\"\"\n",
    "    count = 0\n",
    "    for i in n:\n",
    "        if i == '1':\n",
    "            count += 1\n",
    "    \n",
    "    return count\n",
    "\n",
    "hammingWeight(n1)\n",
    "hammingWeight(n2)\n",
    "hammingWeight(n3)"
   ]
  },
  {
   "cell_type": "markdown",
   "id": "58191cf5-74b6-4bfa-928b-2d10f57c7059",
   "metadata": {
    "tags": []
   },
   "source": [
    "#### __338. Counting Bits:__\n",
    "Given an integer n, return an array ans of length n + 1 such that for each i (0 <= i <= n), ans[i] is the number of 1's in the binary representation of i.\n",
    "\n",
    "_Reference Link:_\n",
    "* https://leetcode.com/problems/counting-bits/"
   ]
  },
  {
   "cell_type": "code",
   "execution_count": 57,
   "id": "b20cab43-f861-4af8-a6d2-d52e01ebbeb6",
   "metadata": {},
   "outputs": [
    {
     "data": {
      "text/plain": [
       "'0b101'"
      ]
     },
     "execution_count": 57,
     "metadata": {},
     "output_type": "execute_result"
    },
    {
     "data": {
      "text/plain": [
       "'0b101'"
      ]
     },
     "execution_count": 57,
     "metadata": {},
     "output_type": "execute_result"
    },
    {
     "data": {
      "text/plain": [
       "2"
      ]
     },
     "execution_count": 57,
     "metadata": {},
     "output_type": "execute_result"
    }
   ],
   "source": [
    "bin(5)\n",
    "str_num = str(bin(5))\n",
    "str_num\n",
    "\n",
    "count = 0\n",
    "for i in str_num:\n",
    "    if i == '1':\n",
    "        count += 1\n",
    "\n",
    "count"
   ]
  },
  {
   "cell_type": "code",
   "execution_count": 59,
   "id": "4f4bc3df-5b5f-495d-85b5-6efafdad8de4",
   "metadata": {},
   "outputs": [
    {
     "data": {
      "text/plain": [
       "['0b0', '0b1', '0b10', '0b11', '0b100', '0b101']"
      ]
     },
     "execution_count": 59,
     "metadata": {},
     "output_type": "execute_result"
    },
    {
     "data": {
      "text/plain": [
       "[0, 1, 1, 2, 1, 2]"
      ]
     },
     "execution_count": 59,
     "metadata": {},
     "output_type": "execute_result"
    }
   ],
   "source": [
    "binary = []\n",
    "count_values = []\n",
    "n = 5\n",
    "for i in range(0, n+1):\n",
    "    str_num = str(bin(i))\n",
    "    binary.append(str_num)\n",
    "\n",
    "binary\n",
    "\n",
    "for i in binary:\n",
    "    count = 0\n",
    "    for n in i:\n",
    "        if n == '1':\n",
    "            count += 1\n",
    "    count_values.append(count)\n",
    "\n",
    "count_values"
   ]
  },
  {
   "cell_type": "code",
   "execution_count": 61,
   "id": "4e07774e-7645-45f5-a1ec-6709c54259dc",
   "metadata": {},
   "outputs": [
    {
     "data": {
      "text/plain": [
       "[0, 1, 1]"
      ]
     },
     "execution_count": 61,
     "metadata": {},
     "output_type": "execute_result"
    },
    {
     "data": {
      "text/plain": [
       "[0, 1, 1, 2, 1, 2]"
      ]
     },
     "execution_count": 61,
     "metadata": {},
     "output_type": "execute_result"
    }
   ],
   "source": [
    "def countBits(n):\n",
    "    \"\"\"\n",
    "    :type n: int\n",
    "    :rtype: List[int]\n",
    "    \"\"\"\n",
    "    \n",
    "    binary = []\n",
    "    count_values = []\n",
    "    for i in range(0, n+1):\n",
    "        str_num = str(bin(i))\n",
    "        binary.append(str_num)\n",
    "\n",
    "    for i in binary:\n",
    "        count = 0\n",
    "        for h in i:\n",
    "            if h == '1':\n",
    "                count += 1\n",
    "        count_values.append(count)\n",
    "\n",
    "    return count_values\n",
    "\n",
    "countBits(2)\n",
    "countBits(5)"
   ]
  },
  {
   "cell_type": "markdown",
   "id": "5f732f05-819b-405e-97c6-ddf2058e9073",
   "metadata": {},
   "source": [
    "#### __268. Missing Number:__\n",
    "Given an array nums containing n distinct numbers in the range [0, n], return the only number in the range that is missing from the array.\n",
    "\n",
    "_Reference Links:_\n",
    "* https://leetcode.com/problems/missing-number/"
   ]
  },
  {
   "cell_type": "code",
   "execution_count": 84,
   "id": "f977e726-00d3-4de5-b84e-6999b557f705",
   "metadata": {},
   "outputs": [
    {
     "data": {
      "text/plain": [
       "3"
      ]
     },
     "execution_count": 84,
     "metadata": {},
     "output_type": "execute_result"
    }
   ],
   "source": [
    "m1 = [3,0, 1]\n",
    "m2 = [0,1]\n",
    "s = set(m1) - set(m2)\n",
    "e = next(iter(s))\n",
    "e"
   ]
  },
  {
   "cell_type": "code",
   "execution_count": 86,
   "id": "5fce8805-cc2c-41be-8497-311189919776",
   "metadata": {},
   "outputs": [
    {
     "data": {
      "text/plain": [
       "[0, 1, 2, 3]"
      ]
     },
     "execution_count": 86,
     "metadata": {},
     "output_type": "execute_result"
    }
   ],
   "source": [
    "arr = []\n",
    "for p in range(4):\n",
    "    arr.append(p)\n",
    "arr"
   ]
  },
  {
   "cell_type": "code",
   "execution_count": 66,
   "id": "70792af8-6156-44f8-be8e-be3e0aa0407b",
   "metadata": {},
   "outputs": [
    {
     "data": {
      "text/plain": [
       "[0, 1, 3]"
      ]
     },
     "execution_count": 66,
     "metadata": {},
     "output_type": "execute_result"
    }
   ],
   "source": [
    "nums = [3,0,1]\n",
    "nums.sort()\n",
    "nums"
   ]
  },
  {
   "cell_type": "code",
   "execution_count": 72,
   "id": "d836e810-e88a-4861-a883-e577c4182cfb",
   "metadata": {},
   "outputs": [
    {
     "name": "stdout",
     "output_type": "stream",
     "text": [
      "2\n"
     ]
    }
   ],
   "source": [
    "g = 0\n",
    "for i in nums:\n",
    "    if i != g:\n",
    "        print(g)\n",
    "    g += 1\n",
    "    "
   ]
  },
  {
   "cell_type": "code",
   "execution_count": 87,
   "id": "0225c1da-f4e2-4e56-9f97-28f8137f5a42",
   "metadata": {},
   "outputs": [
    {
     "data": {
      "text/plain": [
       "2"
      ]
     },
     "execution_count": 87,
     "metadata": {},
     "output_type": "execute_result"
    },
    {
     "data": {
      "text/plain": [
       "2"
      ]
     },
     "execution_count": 87,
     "metadata": {},
     "output_type": "execute_result"
    },
    {
     "data": {
      "text/plain": [
       "8"
      ]
     },
     "execution_count": 87,
     "metadata": {},
     "output_type": "execute_result"
    }
   ],
   "source": [
    "def missingNumber(nums):\n",
    "    \"\"\"\n",
    "    :type nums: List[int]\n",
    "    :rtype: int\n",
    "    \"\"\"\n",
    "    \n",
    "    len_arr = len(nums) + 1\n",
    "    nums_arr = []\n",
    "    for p in range(len_arr):\n",
    "        nums_arr.append(p)\n",
    "\n",
    "    s = set(nums_arr) - set(nums)\n",
    "    value_nums = next(iter(s))\n",
    "    \n",
    "    return value_nums\n",
    "\n",
    "nums1 = [3,0,1]\n",
    "nums2 = [0,1]\n",
    "nums3 = [9,6,4,2,3,5,7,0,1]\n",
    "\n",
    "missingNumber(nums1)\n",
    "missingNumber(nums2)\n",
    "missingNumber(nums3)"
   ]
  },
  {
   "cell_type": "markdown",
   "id": "beca77c4-fbde-48f3-b720-181a8e1b479e",
   "metadata": {},
   "source": [
    "#### __190. Reverse Bits:__\n",
    "Reverse bits of a given 32 bits unsigned integer.\n",
    "\n",
    "Note:\n",
    "\n",
    "    Note that in some languages, such as Java, there is no unsigned integer type. In this case, both input and output will be given as a signed integer type. They should not affect your implementation, as the integer's internal binary representation is the same, whether it is signed or unsigned.\n",
    "    In Java, the compiler represents the signed integers using 2's complement notation. Therefore, in Example 2 above, the input represents the signed integer -3 and the output represents the signed integer -1073741825.\n",
    "\n",
    "_Reference Links:_\n",
    "* https://leetcode.com/problems/reverse-bits/\n",
    "* https://stackoverflow.com/questions/21765779/converting-binary-to-decimal-integer-output\n",
    "* https://stackoverflow.com/questions/931092/reverse-a-string-in-python"
   ]
  },
  {
   "cell_type": "code",
   "execution_count": 88,
   "id": "c439f817-5bfc-4294-8f80-b0caaf31a290",
   "metadata": {},
   "outputs": [
    {
     "name": "stdout",
     "output_type": "stream",
     "text": [
      "101\n",
      "5\n",
      "101\n"
     ]
    }
   ],
   "source": [
    "import struct\n",
    "\n",
    "i = 5\n",
    "print('{0:b}'.format(i))\n",
    "\n",
    "packed = struct.pack('>l', i)  # Packing a long number.\n",
    "unpacked = struct.unpack('>L', packed)[0]  # Unpacking a packed long number to unsigned long\n",
    "print(unpacked)\n",
    "print('{0:b}'.format(unpacked))"
   ]
  },
  {
   "cell_type": "code",
   "execution_count": 102,
   "id": "2895bf7e-f547-44d7-ba24-851fccc86c16",
   "metadata": {},
   "outputs": [
    {
     "data": {
      "text/plain": [
       "43261596"
      ]
     },
     "execution_count": 102,
     "metadata": {},
     "output_type": "execute_result"
    }
   ],
   "source": [
    "binaryString = '00000010100101000001111010011100'\n",
    "int(binaryString, 2)"
   ]
  },
  {
   "cell_type": "code",
   "execution_count": 104,
   "id": "8afa2258-0c76-41eb-b6ef-cb517bf4f56f",
   "metadata": {},
   "outputs": [
    {
     "data": {
      "text/plain": [
       "'00111001011110000010100101000000'"
      ]
     },
     "execution_count": 104,
     "metadata": {},
     "output_type": "execute_result"
    },
    {
     "data": {
      "text/plain": [
       "964176192"
      ]
     },
     "execution_count": 104,
     "metadata": {},
     "output_type": "execute_result"
    }
   ],
   "source": [
    "binaryString_rev = binaryString[::-1]\n",
    "binaryString_rev\n",
    "int(binaryString_rev, 2)"
   ]
  },
  {
   "cell_type": "code",
   "execution_count": 105,
   "id": "358f5fa3-392c-4314-9346-01c940f7f4b9",
   "metadata": {},
   "outputs": [
    {
     "data": {
      "text/plain": [
       "964176192"
      ]
     },
     "execution_count": 105,
     "metadata": {},
     "output_type": "execute_result"
    },
    {
     "data": {
      "text/plain": [
       "3221225471"
      ]
     },
     "execution_count": 105,
     "metadata": {},
     "output_type": "execute_result"
    }
   ],
   "source": [
    "def reverseBits(n):\n",
    "    n_rev = n[::-1]\n",
    "    rev_binary = int(n_rev, 2)\n",
    "    \n",
    "    return rev_binary\n",
    "\n",
    "n_1 = '00000010100101000001111010011100'\n",
    "n_2 = '11111111111111111111111111111101'\n",
    "\n",
    "reverseBits(n_1)\n",
    "reverseBits(n_2)    "
   ]
  },
  {
   "cell_type": "code",
   "execution_count": null,
   "id": "4c669b3a-8508-40fe-a134-db4b12254ac9",
   "metadata": {},
   "outputs": [],
   "source": []
  }
 ],
 "metadata": {
  "kernelspec": {
   "display_name": "Python 3 (ipykernel)",
   "language": "python",
   "name": "python3"
  },
  "language_info": {
   "codemirror_mode": {
    "name": "ipython",
    "version": 3
   },
   "file_extension": ".py",
   "mimetype": "text/x-python",
   "name": "python",
   "nbconvert_exporter": "python",
   "pygments_lexer": "ipython3",
   "version": "3.9.12"
  }
 },
 "nbformat": 4,
 "nbformat_minor": 5
}
