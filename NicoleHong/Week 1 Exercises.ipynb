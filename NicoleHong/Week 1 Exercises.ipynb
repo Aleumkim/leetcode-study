{
 "cells": [
  {
   "cell_type": "code",
   "execution_count": null,
   "id": "03547531-2ccb-4e80-a223-75e6cd44aa1d",
   "metadata": {},
   "outputs": [],
   "source": [
    "import numpy as np\n",
    "import pandas as pd\n",
    "\n",
    "# to be able to see multiple ouputs from sungle cell\n",
    "from IPython.core.interactiveshell import InteractiveShell\n",
    "InteractiveShell.ast_node_interactivity = \"all\""
   ]
  },
  {
   "cell_type": "markdown",
   "id": "f316b8f0-81cd-4b78-9623-63f48ad3d0e4",
   "metadata": {},
   "source": [
    "#### __1. Two Sum:__\n",
    "Given an array of integers nums and an integer target, return indices of the two numbers such that they add up to target.\n",
    "\n",
    "You may assume that each input would have exactly one solution, and you may not use the same element twice.\n",
    "\n",
    "You can return the answer in any order."
   ]
  },
  {
   "cell_type": "code",
   "execution_count": 30,
   "id": "6a60bf28-f2e5-4c95-8a51-91870b1ac702",
   "metadata": {},
   "outputs": [
    {
     "data": {
      "text/plain": [
       "4"
      ]
     },
     "execution_count": 30,
     "metadata": {},
     "output_type": "execute_result"
    },
    {
     "data": {
      "text/plain": [
       "1"
      ]
     },
     "execution_count": 30,
     "metadata": {},
     "output_type": "execute_result"
    }
   ],
   "source": [
    "nums = [2,7,11,15]\n",
    "target = 9\n",
    "len(nums)\n",
    "nums.index(7)"
   ]
  },
  {
   "cell_type": "code",
   "execution_count": 31,
   "id": "d5deb9c4-6ff2-4bf8-8d0f-d1387bffdff8",
   "metadata": {},
   "outputs": [
    {
     "name": "stdout",
     "output_type": "stream",
     "text": [
      "[0, 1]\n",
      "[0, 2]\n",
      "[0, 3]\n",
      "[1, 2]\n",
      "[1, 3]\n",
      "[2, 3]\n"
     ]
    }
   ],
   "source": [
    "n = 0\n",
    "m = 1\n",
    "while n < len(nums)-1:\n",
    "    while m < len(nums):\n",
    "        print(f\"[{n}, {m}]\")\n",
    "        m += 1\n",
    "    \n",
    "    n += 1\n",
    "    m = n + 1"
   ]
  },
  {
   "cell_type": "code",
   "execution_count": 32,
   "id": "47c0db59-2219-42e5-bf77-e872a1d7c4c1",
   "metadata": {},
   "outputs": [
    {
     "name": "stdout",
     "output_type": "stream",
     "text": [
      "[0, 1]\n"
     ]
    }
   ],
   "source": [
    "n = 0\n",
    "m = 1\n",
    "while n < len(nums)-1:\n",
    "    while m < len(nums):\n",
    "        if nums[n] + nums[m] == target:\n",
    "            print(f\"[{n}, {m}]\")\n",
    "        m += 1\n",
    "    \n",
    "    n += 1\n",
    "    m = n + 1"
   ]
  },
  {
   "cell_type": "code",
   "execution_count": null,
   "id": "341c3b84-2ad6-4411-84de-7a2e3fa47ddf",
   "metadata": {},
   "outputs": [],
   "source": []
  },
  {
   "cell_type": "markdown",
   "id": "588dc457-e470-49d8-90b6-4caad61ab214",
   "metadata": {},
   "source": [
    "#### __121. Best Time to Buy and Sell Stock:__\n",
    "You are given an array prices where prices[i] is the price of a given stock on the ith day.\n",
    "\n",
    "You want to maximize your profit by choosing a single day to buy one stock and choosing a different day in the future to sell that stock.\n",
    "\n",
    "Return the maximum profit you can achieve from this transaction. If you cannot achieve any profit, return 0."
   ]
  },
  {
   "cell_type": "code",
   "execution_count": 42,
   "id": "697b843c-144c-437a-9372-e3579d684644",
   "metadata": {},
   "outputs": [
    {
     "data": {
      "text/plain": [
       "6"
      ]
     },
     "execution_count": 42,
     "metadata": {},
     "output_type": "execute_result"
    }
   ],
   "source": [
    "prices = [7,1,5,3,6,4]\n",
    "len(prices)"
   ]
  },
  {
   "cell_type": "code",
   "execution_count": 43,
   "id": "3a60349a-731b-414f-93a4-2fe857d61d49",
   "metadata": {},
   "outputs": [
    {
     "name": "stdout",
     "output_type": "stream",
     "text": [
      "[0, 1]\n",
      "[0, 2]\n",
      "[0, 3]\n",
      "[0, 4]\n",
      "[0, 5]\n",
      "[1, 2]\n",
      "[1, 3]\n",
      "[1, 4]\n",
      "[1, 5]\n",
      "[2, 3]\n",
      "[2, 4]\n",
      "[2, 5]\n",
      "[3, 4]\n",
      "[3, 5]\n",
      "[4, 5]\n"
     ]
    }
   ],
   "source": [
    "g = 0\n",
    "n = 1\n",
    "while g < len(prices)-1:\n",
    "    while n < len(prices):\n",
    "        print(f\"[{g}, {n}]\")\n",
    "        n += 1\n",
    "    \n",
    "    g += 1\n",
    "    n = g + 1"
   ]
  },
  {
   "cell_type": "code",
   "execution_count": 44,
   "id": "48208a03-fec5-45fd-b163-b3c54b4b24d6",
   "metadata": {},
   "outputs": [
    {
     "name": "stdout",
     "output_type": "stream",
     "text": [
      "5\n"
     ]
    }
   ],
   "source": [
    "g = 0\n",
    "n = 1\n",
    "profit_arr = []\n",
    "while g < len(prices)-1:\n",
    "    while n < len(prices):\n",
    "        profit = prices[n] - prices[g]\n",
    "        profit_arr.append(profit)\n",
    "        #print(f\"[{g}, {n}]\")\n",
    "        n += 1\n",
    "    \n",
    "    g += 1\n",
    "    n = g + 1\n",
    "\n",
    "if max(profit_arr) <= 0:\n",
    "    print(0)\n",
    "else:\n",
    "    print(max(profit_arr))"
   ]
  },
  {
   "cell_type": "code",
   "execution_count": null,
   "id": "69fb1c04-4433-4526-94b7-24fef0e3a031",
   "metadata": {},
   "outputs": [],
   "source": []
  },
  {
   "cell_type": "markdown",
   "id": "58191cf5-74b6-4bfa-928b-2d10f57c7059",
   "metadata": {
    "tags": []
   },
   "source": [
    "#### __217. Contains Duplicate:__\n",
    "Given an integer array nums, return true if any value appears at least twice in the array, and return false if every element is distinct."
   ]
  },
  {
   "cell_type": "code",
   "execution_count": 57,
   "id": "80039eee-8e65-4d87-ae3e-74f2e4274467",
   "metadata": {},
   "outputs": [
    {
     "name": "stdout",
     "output_type": "stream",
     "text": [
      "True\n"
     ]
    }
   ],
   "source": [
    "from collections import Counter\n",
    "\n",
    "lst_arr = [1,2,3,4,1]\n",
    "\n",
    "if max(Counter(lst_arr).values()) > 1:\n",
    "    print(True)\n",
    "else:\n",
    "    print(False)"
   ]
  },
  {
   "cell_type": "code",
   "execution_count": null,
   "id": "4e07774e-7645-45f5-a1ec-6709c54259dc",
   "metadata": {},
   "outputs": [],
   "source": []
  },
  {
   "cell_type": "markdown",
   "id": "5f732f05-819b-405e-97c6-ddf2058e9073",
   "metadata": {},
   "source": [
    "#### __238. Product of Array Except Self:__\n",
    "Given an integer array nums, return an array answer such that answer[i] is equal to the product of all the elements of nums except nums[i].\n",
    "\n",
    "The product of any prefix or suffix of nums is guaranteed to fit in a 32-bit integer.\n",
    "\n",
    "You must write an algorithm that runs in O(n) time and without using the division operation."
   ]
  },
  {
   "cell_type": "code",
   "execution_count": 66,
   "id": "d836e810-e88a-4861-a883-e577c4182cfb",
   "metadata": {},
   "outputs": [
    {
     "data": {
      "text/plain": [
       "24"
      ]
     },
     "execution_count": 66,
     "metadata": {},
     "output_type": "execute_result"
    }
   ],
   "source": [
    "nums2 = [1,2,3,4]\n",
    "\n",
    "np.product(nums2)"
   ]
  },
  {
   "cell_type": "code",
   "execution_count": 67,
   "id": "0225c1da-f4e2-4e56-9f97-28f8137f5a42",
   "metadata": {},
   "outputs": [
    {
     "name": "stdout",
     "output_type": "stream",
     "text": [
      "[1, 2, 3, 4]\n",
      "[1, 1, 3, 4]\n",
      "[1, 2, 1, 4]\n",
      "[1, 2, 3, 1]\n"
     ]
    }
   ],
   "source": [
    "b = 1\n",
    "for i in range(len(nums2)):\n",
    "    c = nums2[i]\n",
    "    nums2[i] = b\n",
    "    print(nums2)\n",
    "    nums2[i] = c\n",
    "    "
   ]
  },
  {
   "cell_type": "code",
   "execution_count": 68,
   "id": "c7c99dec-c13c-493d-8830-868ef7b96872",
   "metadata": {},
   "outputs": [
    {
     "name": "stdout",
     "output_type": "stream",
     "text": [
      "[24, 12, 8, 6]\n"
     ]
    }
   ],
   "source": [
    "product_lst = []\n",
    "b = 1\n",
    "for i in range(len(nums2)):\n",
    "    c = nums2[i]\n",
    "    nums2[i] = b\n",
    "    product_lst.append(np.product(nums2))\n",
    "    nums2[i] = c\n",
    "\n",
    "print(product_lst)"
   ]
  },
  {
   "cell_type": "code",
   "execution_count": null,
   "id": "074e9bb7-83ed-4112-a143-8707db676a1a",
   "metadata": {},
   "outputs": [],
   "source": []
  },
  {
   "cell_type": "markdown",
   "id": "beca77c4-fbde-48f3-b720-181a8e1b479e",
   "metadata": {},
   "source": [
    "#### __53. Maximum Subarray:__\n",
    "Given an integer array nums, find the contiguous subarray (containing at least one number) which has the largest sum and return its sum.\n",
    "\n",
    "A subarray is a contiguous part of an array."
   ]
  },
  {
   "cell_type": "code",
   "execution_count": 80,
   "id": "c439f817-5bfc-4294-8f80-b0caaf31a290",
   "metadata": {},
   "outputs": [
    {
     "data": {
      "text/plain": [
       "9"
      ]
     },
     "execution_count": 80,
     "metadata": {},
     "output_type": "execute_result"
    }
   ],
   "source": [
    "nums3 = [-2,1,-3,4,-1,2,1,-5,4]\n",
    "len(nums3)"
   ]
  },
  {
   "cell_type": "code",
   "execution_count": 81,
   "id": "358f5fa3-392c-4314-9346-01c940f7f4b9",
   "metadata": {},
   "outputs": [
    {
     "data": {
      "text/plain": [
       "1"
      ]
     },
     "execution_count": 81,
     "metadata": {},
     "output_type": "execute_result"
    }
   ],
   "source": [
    "np.sum(nums3)"
   ]
  },
  {
   "cell_type": "code",
   "execution_count": 82,
   "id": "09885b0c-d0a3-4645-a2e0-4a027c85ddaf",
   "metadata": {},
   "outputs": [
    {
     "name": "stdout",
     "output_type": "stream",
     "text": [
      "6\n"
     ]
    }
   ],
   "source": [
    "sum_lst = []\n",
    "b = 0\n",
    "\n",
    "if len(nums3) == 1:\n",
    "    print(np.sum(nums3))\n",
    "else:\n",
    "    for i in range(len(nums3)):\n",
    "        c = nums3[i]\n",
    "        nums3[i] = b\n",
    "        sum_lst.append(np.sum(nums3))\n",
    "        nums3[i] = c\n",
    "\n",
    "    print(max(sum_lst))"
   ]
  }
 ],
 "metadata": {
  "kernelspec": {
   "display_name": "Python 3 (ipykernel)",
   "language": "python",
   "name": "python3"
  },
  "language_info": {
   "codemirror_mode": {
    "name": "ipython",
    "version": 3
   },
   "file_extension": ".py",
   "mimetype": "text/x-python",
   "name": "python",
   "nbconvert_exporter": "python",
   "pygments_lexer": "ipython3",
   "version": "3.9.12"
  }
 },
 "nbformat": 4,
 "nbformat_minor": 5
}
